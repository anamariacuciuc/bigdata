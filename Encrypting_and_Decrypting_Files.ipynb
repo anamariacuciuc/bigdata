{
  "nbformat": 4,
  "nbformat_minor": 0,
  "metadata": {
    "colab": {
      "name": "Encrypting and Decrypting Files",
      "version": "0.3.2",
      "provenance": [],
      "include_colab_link": true
    },
    "kernelspec": {
      "name": "python3",
      "display_name": "Python 3"
    }
  },
  "cells": [
    {
      "cell_type": "markdown",
      "metadata": {
        "id": "view-in-github",
        "colab_type": "text"
      },
      "source": [
        "<a href=\"https://colab.research.google.com/github/anamariacuciuc/bigdata/blob/master/Encrypting_and_Decrypting_Files.ipynb\" target=\"_parent\"><img src=\"https://colab.research.google.com/assets/colab-badge.svg\" alt=\"Open In Colab\"/></a>"
      ]
    },
    {
      "cell_type": "markdown",
      "metadata": {
        "id": "s4aB-Xmg3RJE",
        "colab_type": "text"
      },
      "source": [
        "**Encrypting and Decrypting Files**"
      ]
    },
    {
      "cell_type": "code",
      "metadata": {
        "id": "_hTr3ZmP0AKK",
        "colab_type": "code",
        "colab": {}
      },
      "source": [
        "from cryptography.fernet import Fernet\n",
        "file=open('key.key', 'rb')\n",
        "key=file.read()\n",
        "file.close()\n",
        "\n",
        "input_file = 'test.txt'\n",
        "output_file = 'test.encrypted'\n",
        "\n",
        "with open(input_file, 'rb') as f:\n",
        "    data = f.read()\n",
        "\n",
        "fernet = Fernet(key)\n",
        "encrypted = fernet.encrypt(data)\n",
        "\n",
        "with open(output_file, 'wb') as f:\n",
        "    f.write(encrypted)\n"
      ],
      "execution_count": 0,
      "outputs": []
    },
    {
      "cell_type": "code",
      "metadata": {
        "id": "1pbBzVBJ2wFk",
        "colab_type": "code",
        "colab": {}
      },
      "source": [
        "#decrypting file"
      ],
      "execution_count": 0,
      "outputs": []
    },
    {
      "cell_type": "code",
      "metadata": {
        "id": "wN9q4Lcj2zTS",
        "colab_type": "code",
        "colab": {}
      },
      "source": [
        "file=open('key.key', 'rb')\n",
        "key=file.read()\n",
        "file.close()\n",
        "\n",
        "input_file = 'test.encrypted'\n",
        "output_file = 'test.txt'\n",
        "\n",
        "with open(input_file, 'rb') as f:\n",
        "    data = f.read()\n",
        "\n",
        "fernet = Fernet(key)\n",
        "encrypted = fernet.decrypt(data)\n",
        "\n",
        "with open(output_file, 'wb') as f:\n",
        "    f.write(encrypted)\n"
      ],
      "execution_count": 0,
      "outputs": []
    },
    {
      "cell_type": "code",
      "metadata": {
        "id": "OE8r2_zg0XAt",
        "colab_type": "code",
        "colab": {}
      },
      "source": [
        ""
      ],
      "execution_count": 0,
      "outputs": []
    }
  ]
}