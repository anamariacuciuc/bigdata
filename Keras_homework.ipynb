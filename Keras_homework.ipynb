{
  "nbformat": 4,
  "nbformat_minor": 0,
  "metadata": {
    "colab": {
      "name": "Keras_homework.ipynb",
      "version": "0.3.2",
      "provenance": [],
      "collapsed_sections": [],
      "include_colab_link": true
    },
    "kernelspec": {
      "name": "python3",
      "display_name": "Python 3"
    }
  },
  "cells": [
    {
      "cell_type": "markdown",
      "metadata": {
        "id": "view-in-github",
        "colab_type": "text"
      },
      "source": [
        "<a href=\"https://colab.research.google.com/github/anamariacuciuc/bigdata/blob/master/Keras_homework.ipynb\" target=\"_parent\"><img src=\"https://colab.research.google.com/assets/colab-badge.svg\" alt=\"Open In Colab\"/></a>"
      ]
    },
    {
      "cell_type": "code",
      "metadata": {
        "id": "ZuhA7SJ6VkIg",
        "colab_type": "code",
        "colab": {
          "base_uri": "https://localhost:8080/",
          "height": 212
        },
        "outputId": "68bcc954-ae35-4336-e8d5-cdfd67aaac40"
      },
      "source": [
        "! wget -O pima-indians-diabetes.csv https://gist.githubusercontent.com/ktisha/c21e73a1bd1700294ef790c56c8aec1f/raw/819b69b5736821ccee93d05b51de0510bea00294/pima-indians-diabetes.csv\n",
        "  "
      ],
      "execution_count": 1,
      "outputs": [
        {
          "output_type": "stream",
          "text": [
            "--2019-06-04 11:54:38--  https://gist.githubusercontent.com/ktisha/c21e73a1bd1700294ef790c56c8aec1f/raw/819b69b5736821ccee93d05b51de0510bea00294/pima-indians-diabetes.csv\n",
            "Resolving gist.githubusercontent.com (gist.githubusercontent.com)... 151.101.0.133, 151.101.64.133, 151.101.128.133, ...\n",
            "Connecting to gist.githubusercontent.com (gist.githubusercontent.com)|151.101.0.133|:443... connected.\n",
            "HTTP request sent, awaiting response... 200 OK\n",
            "Length: 23628 (23K) [text/plain]\n",
            "Saving to: ‘pima-indians-diabetes.csv’\n",
            "\n",
            "\r          pima-indi   0%[                    ]       0  --.-KB/s               \rpima-indians-diabet 100%[===================>]  23.07K  --.-KB/s    in 0.01s   \n",
            "\n",
            "2019-06-04 11:54:38 (1.85 MB/s) - ‘pima-indians-diabetes.csv’ saved [23628/23628]\n",
            "\n"
          ],
          "name": "stdout"
        }
      ]
    },
    {
      "cell_type": "code",
      "metadata": {
        "id": "TziIX9_5Vy8E",
        "colab_type": "code",
        "colab": {
          "base_uri": "https://localhost:8080/",
          "height": 70
        },
        "outputId": "62071513-376d-4621-e939-2739b6695e6e"
      },
      "source": [
        "%ls -l"
      ],
      "execution_count": 2,
      "outputs": [
        {
          "output_type": "stream",
          "text": [
            "total 28\n",
            "-rw-r--r-- 1 root root 23628 Jun  4 11:54 pima-indians-diabetes.csv\n",
            "drwxr-xr-x 1 root root  4096 May 31 16:17 \u001b[0m\u001b[01;34msample_data\u001b[0m/\n"
          ],
          "name": "stdout"
        }
      ]
    },
    {
      "cell_type": "code",
      "metadata": {
        "id": "NpgSdKEeYuf-",
        "colab_type": "code",
        "colab": {}
      },
      "source": [
        "from sklearn.model_selection import train_test_split\n",
        "from keras.models import Sequential\n",
        "from keras.layers import Dense\n",
        "import matplotlib.pyplot as plt\n",
        "from matplotlib.ticker import MaxNLocator\n",
        "import numpy as np"
      ],
      "execution_count": 0,
      "outputs": []
    },
    {
      "cell_type": "code",
      "metadata": {
        "id": "gyA0M1s0ZsYt",
        "colab_type": "code",
        "colab": {}
      },
      "source": [
        "# fix random seed for reproducibility\n",
        "seed = 7\n",
        "np.random.seed(seed)"
      ],
      "execution_count": 0,
      "outputs": []
    },
    {
      "cell_type": "code",
      "metadata": {
        "id": "j1NrdGvDZvuP",
        "colab_type": "code",
        "colab": {}
      },
      "source": [
        "dataset = np.loadtxt(\"pima-indians-diabetes.csv\", delimiter=\",\")"
      ],
      "execution_count": 0,
      "outputs": []
    },
    {
      "cell_type": "code",
      "metadata": {
        "id": "HR22D046aZZC",
        "colab_type": "code",
        "colab": {
          "base_uri": "https://localhost:8080/",
          "height": 141
        },
        "outputId": "c1263ea7-0aae-4721-d29f-4789cc4b8c31"
      },
      "source": [
        "print(dataset)"
      ],
      "execution_count": 66,
      "outputs": [
        {
          "output_type": "stream",
          "text": [
            "[[  6.    148.     72.    ...   0.627  50.      1.   ]\n",
            " [  1.     85.     66.    ...   0.351  31.      0.   ]\n",
            " [  8.    183.     64.    ...   0.672  32.      1.   ]\n",
            " ...\n",
            " [  5.    121.     72.    ...   0.245  30.      0.   ]\n",
            " [  1.    126.     60.    ...   0.349  47.      1.   ]\n",
            " [  1.     93.     70.    ...   0.315  23.      0.   ]]\n"
          ],
          "name": "stdout"
        }
      ]
    },
    {
      "cell_type": "code",
      "metadata": {
        "id": "vvyDB_5xdh52",
        "colab_type": "code",
        "colab": {
          "base_uri": "https://localhost:8080/",
          "height": 35
        },
        "outputId": "e7f6bae9-e97f-475e-afca-eff713055d9d"
      },
      "source": [
        "#len(dataset)\n",
        "dataset.ndim"
      ],
      "execution_count": 67,
      "outputs": [
        {
          "output_type": "execute_result",
          "data": {
            "text/plain": [
              "2"
            ]
          },
          "metadata": {
            "tags": []
          },
          "execution_count": 67
        }
      ]
    },
    {
      "cell_type": "code",
      "metadata": {
        "id": "68PQ5OitZz0K",
        "colab_type": "code",
        "colab": {}
      },
      "source": [
        "\n",
        "# split dataset into input (X) and output (Y) variables\n",
        "# output is the last column\n",
        "X = dataset[ : , 0: 8]\n",
        "y = dataset[:,8]\n"
      ],
      "execution_count": 0,
      "outputs": []
    },
    {
      "cell_type": "code",
      "metadata": {
        "id": "jsuVVJJ8fZYC",
        "colab_type": "code",
        "colab": {
          "base_uri": "https://localhost:8080/",
          "height": 586
        },
        "outputId": "d6aa8067-7635-4062-85cf-8316d0b074ad"
      },
      "source": [
        "print(y)"
      ],
      "execution_count": 69,
      "outputs": [
        {
          "output_type": "stream",
          "text": [
            "[1. 0. 1. 0. 1. 0. 1. 0. 1. 1. 0. 1. 0. 1. 1. 1. 1. 1. 0. 1. 0. 0. 1. 1.\n",
            " 1. 1. 1. 0. 0. 0. 0. 1. 0. 0. 0. 0. 0. 1. 1. 1. 0. 0. 0. 1. 0. 1. 0. 0.\n",
            " 1. 0. 0. 0. 0. 1. 0. 0. 1. 0. 0. 0. 0. 1. 0. 0. 1. 0. 1. 0. 0. 0. 1. 0.\n",
            " 1. 0. 0. 0. 0. 0. 1. 0. 0. 0. 0. 0. 1. 0. 0. 0. 1. 0. 0. 0. 0. 1. 0. 0.\n",
            " 0. 0. 0. 1. 1. 0. 0. 0. 0. 0. 0. 0. 0. 1. 1. 1. 0. 0. 1. 1. 1. 0. 0. 0.\n",
            " 1. 0. 0. 0. 1. 1. 0. 0. 1. 1. 1. 1. 1. 0. 0. 0. 0. 0. 0. 0. 0. 0. 0. 1.\n",
            " 0. 0. 0. 0. 0. 0. 0. 0. 1. 0. 1. 1. 0. 0. 0. 1. 0. 0. 0. 0. 1. 1. 0. 0.\n",
            " 0. 0. 1. 1. 0. 0. 0. 1. 0. 1. 0. 1. 0. 0. 0. 0. 0. 1. 1. 1. 1. 1. 0. 0.\n",
            " 1. 1. 0. 1. 0. 1. 1. 1. 0. 0. 0. 0. 0. 0. 1. 1. 0. 1. 0. 0. 0. 1. 1. 1.\n",
            " 1. 0. 1. 1. 1. 1. 0. 0. 0. 0. 0. 1. 0. 0. 1. 1. 0. 0. 0. 1. 1. 1. 1. 0.\n",
            " 0. 0. 1. 1. 0. 1. 0. 0. 0. 0. 0. 0. 0. 0. 1. 1. 0. 0. 0. 1. 0. 1. 0. 0.\n",
            " 1. 0. 1. 0. 0. 1. 1. 0. 0. 0. 0. 0. 1. 0. 0. 0. 1. 0. 0. 1. 1. 0. 0. 1.\n",
            " 0. 0. 0. 1. 1. 1. 0. 0. 1. 0. 1. 0. 1. 1. 0. 1. 0. 0. 1. 0. 1. 1. 0. 0.\n",
            " 1. 0. 1. 0. 0. 1. 0. 1. 0. 1. 1. 1. 0. 0. 1. 0. 1. 0. 0. 0. 1. 0. 0. 0.\n",
            " 0. 1. 1. 1. 0. 0. 0. 0. 0. 0. 0. 0. 0. 1. 0. 0. 0. 0. 0. 1. 1. 1. 0. 1.\n",
            " 1. 0. 0. 1. 0. 0. 1. 0. 0. 1. 1. 0. 0. 0. 0. 1. 0. 0. 1. 0. 0. 0. 0. 0.\n",
            " 0. 0. 1. 1. 1. 0. 0. 1. 0. 0. 1. 0. 0. 1. 0. 1. 1. 0. 1. 0. 1. 0. 1. 0.\n",
            " 1. 1. 0. 0. 0. 0. 1. 1. 0. 1. 0. 1. 0. 0. 0. 0. 1. 1. 0. 1. 0. 1. 0. 0.\n",
            " 0. 0. 0. 1. 0. 0. 0. 0. 1. 0. 0. 1. 1. 1. 0. 0. 1. 0. 0. 1. 0. 0. 0. 1.\n",
            " 0. 0. 1. 0. 0. 0. 0. 0. 0. 0. 0. 0. 1. 0. 0. 0. 0. 0. 0. 0. 1. 0. 0. 0.\n",
            " 1. 0. 0. 0. 1. 1. 0. 0. 0. 0. 0. 0. 0. 1. 0. 0. 0. 0. 1. 0. 0. 0. 1. 0.\n",
            " 0. 0. 1. 0. 0. 0. 1. 0. 0. 0. 0. 1. 1. 0. 0. 0. 0. 0. 0. 1. 0. 0. 0. 0.\n",
            " 0. 0. 0. 0. 0. 0. 0. 1. 0. 0. 0. 1. 1. 1. 1. 0. 0. 1. 1. 0. 0. 0. 0. 0.\n",
            " 0. 0. 0. 0. 0. 0. 0. 0. 1. 1. 0. 0. 0. 0. 0. 0. 0. 1. 0. 0. 0. 0. 0. 0.\n",
            " 0. 1. 0. 1. 1. 0. 0. 0. 1. 0. 1. 0. 1. 0. 1. 0. 1. 0. 0. 1. 0. 0. 1. 0.\n",
            " 0. 0. 0. 1. 1. 0. 1. 0. 0. 0. 0. 1. 1. 0. 1. 0. 0. 0. 1. 1. 0. 0. 0. 0.\n",
            " 0. 0. 0. 0. 0. 0. 1. 0. 0. 0. 0. 1. 0. 0. 1. 0. 0. 0. 1. 0. 0. 0. 1. 1.\n",
            " 1. 0. 0. 0. 0. 0. 0. 1. 0. 0. 0. 1. 0. 1. 1. 1. 1. 0. 1. 1. 0. 0. 0. 0.\n",
            " 0. 0. 0. 1. 1. 0. 1. 0. 0. 1. 0. 1. 0. 0. 0. 0. 0. 1. 0. 1. 0. 1. 0. 1.\n",
            " 1. 0. 0. 0. 0. 1. 1. 0. 0. 0. 1. 0. 1. 1. 0. 0. 1. 0. 0. 1. 1. 0. 0. 1.\n",
            " 0. 0. 1. 0. 0. 0. 0. 0. 0. 0. 1. 1. 1. 0. 0. 0. 0. 0. 0. 1. 1. 0. 0. 1.\n",
            " 0. 0. 1. 0. 1. 1. 1. 0. 0. 1. 1. 1. 0. 1. 0. 1. 0. 1. 0. 0. 0. 0. 1. 0.]\n"
          ],
          "name": "stdout"
        }
      ]
    },
    {
      "cell_type": "code",
      "metadata": {
        "id": "raKlQt2KZ39e",
        "colab_type": "code",
        "colab": {
          "base_uri": "https://localhost:8080/",
          "height": 35
        },
        "outputId": "4d6ef278-3baa-494e-d153-3c82aee78faf"
      },
      "source": [
        "\n",
        "# print the shape of x\n",
        "#\n",
        " print(X.shape)"
      ],
      "execution_count": 70,
      "outputs": [
        {
          "output_type": "stream",
          "text": [
            "(768, 8)\n"
          ],
          "name": "stdout"
        }
      ]
    },
    {
      "cell_type": "code",
      "metadata": {
        "id": "2v2Sa9fKgj76",
        "colab_type": "code",
        "colab": {
          "base_uri": "https://localhost:8080/",
          "height": 35
        },
        "outputId": "36f0dcfd-aea6-43fd-c506-20cb53cbeae0"
      },
      "source": [
        "\n",
        "# save to number of input dimensions in input_dim\n",
        "#input_dim = # TODO\n",
        "input_dim=8\n",
        "input_dim"
      ],
      "execution_count": 71,
      "outputs": [
        {
          "output_type": "execute_result",
          "data": {
            "text/plain": [
              "8"
            ]
          },
          "metadata": {
            "tags": []
          },
          "execution_count": 71
        }
      ]
    },
    {
      "cell_type": "code",
      "metadata": {
        "id": "w1zHlmZyhDVV",
        "colab_type": "code",
        "colab": {
          "base_uri": "https://localhost:8080/",
          "height": 35
        },
        "outputId": "1073d553-1b50-4356-9609-ec71ffc5826d"
      },
      "source": [
        "# shape of y\n",
        "print(y.shape)"
      ],
      "execution_count": 72,
      "outputs": [
        {
          "output_type": "stream",
          "text": [
            "(768,)\n"
          ],
          "name": "stdout"
        }
      ]
    },
    {
      "cell_type": "code",
      "metadata": {
        "id": "zQk3MV3Qr3AR",
        "colab_type": "code",
        "colab": {}
      },
      "source": [
        "from keras.utils import to_categorical\n",
        "y=to_categorical(y, 2)"
      ],
      "execution_count": 0,
      "outputs": []
    },
    {
      "cell_type": "code",
      "metadata": {
        "id": "JSt8B5Uor9VH",
        "colab_type": "code",
        "colab": {
          "base_uri": "https://localhost:8080/",
          "height": 35
        },
        "outputId": "b5830119-2ccb-4c1a-c5ad-15d8893ec944"
      },
      "source": [
        "print(y.shape)"
      ],
      "execution_count": 74,
      "outputs": [
        {
          "output_type": "stream",
          "text": [
            "(768, 2)\n"
          ],
          "name": "stdout"
        }
      ]
    },
    {
      "cell_type": "code",
      "metadata": {
        "id": "FRSc2fPShRqh",
        "colab_type": "code",
        "colab": {}
      },
      "source": [
        "# Create training and test sets\n",
        "# Test size should be 15%\n",
        "# The test and train set should be stratified\n",
        "# use a random state (for reproducability) of 42\n",
        "# TODO\n",
        "X_train, X_test, y_train, y_test = train_test_split(X,y, test_size=.15, random_state=42)"
      ],
      "execution_count": 0,
      "outputs": []
    },
    {
      "cell_type": "code",
      "metadata": {
        "id": "FLQTZJHNryYy",
        "colab_type": "code",
        "colab": {}
      },
      "source": [
        ""
      ],
      "execution_count": 0,
      "outputs": []
    },
    {
      "cell_type": "code",
      "metadata": {
        "id": "hX-dY_hRhsZ5",
        "colab_type": "code",
        "colab": {
          "base_uri": "https://localhost:8080/",
          "height": 35
        },
        "outputId": "2b59a412-ba28-4587-db9b-1a9b2a929110"
      },
      "source": [
        "\n",
        "# shape of X_test\n",
        " print(X_test.shape)"
      ],
      "execution_count": 76,
      "outputs": [
        {
          "output_type": "stream",
          "text": [
            "(116, 8)\n"
          ],
          "name": "stdout"
        }
      ]
    },
    {
      "cell_type": "code",
      "metadata": {
        "id": "Je8-gUXPihCi",
        "colab_type": "code",
        "colab": {}
      },
      "source": [
        "# 1. Create Sequential model\n",
        "# 2. + 3. Add two hidden dense layers with 12 and 8 nodes. Both should have Relu activations \n",
        "# 4. Add a final output layer\n",
        "# Think about how many nodes the final output layer should have and what activation function is appropiate\n",
        "model= Sequential()\n",
        "model.add(Dense(12, activation='relu', input_dim=8))\n",
        "model.add(Dense(8, activation='relu'))\n",
        "model.add(Dense(2, activation='softmax'))\n"
      ],
      "execution_count": 0,
      "outputs": []
    },
    {
      "cell_type": "code",
      "metadata": {
        "id": "VtCVlmpxkHhC",
        "colab_type": "code",
        "colab": {}
      },
      "source": [
        "# Compile the model\n",
        "# Think about what loss function is appropiate\n",
        "# Use as the optimizer Adam\n",
        "# Track as an additional metric Accuracy\n",
        "# TODO\n",
        "model.compile(optimizer='adam', loss='categorical_crossentropy', metrics=['accuracy'])"
      ],
      "execution_count": 0,
      "outputs": []
    },
    {
      "cell_type": "code",
      "metadata": {
        "id": "3f1Y12wvmj4T",
        "colab_type": "code",
        "colab": {}
      },
      "source": [
        ""
      ],
      "execution_count": 0,
      "outputs": []
    },
    {
      "cell_type": "code",
      "metadata": {
        "id": "56YXzR-KlAWB",
        "colab_type": "code",
        "colab": {
          "base_uri": "https://localhost:8080/",
          "height": 10701
        },
        "outputId": "3e9ea47c-ed56-4d5e-8611-7b104bc2e162"
      },
      "source": [
        "# Fit the model\n",
        "#\n",
        "# Use 15% for Validation\n",
        "# Train for 300 epochs\n",
        "# User batch size = 10\n",
        "# Save the model fitting into the variable history\n",
        "# TODO\n",
        "history = model.fit(X_train, y_train, batch_size=10, epochs=300, validation_split=0.15)"
      ],
      "execution_count": 79,
      "outputs": [
        {
          "output_type": "stream",
          "text": [
            "Train on 554 samples, validate on 98 samples\n",
            "Epoch 1/300\n",
            "554/554 [==============================] - 0s 523us/step - loss: 1.9122 - acc: 0.5253 - val_loss: 1.2139 - val_acc: 0.5510\n",
            "Epoch 2/300\n",
            "554/554 [==============================] - 0s 113us/step - loss: 0.9871 - acc: 0.6318 - val_loss: 0.8592 - val_acc: 0.6837\n",
            "Epoch 3/300\n",
            "554/554 [==============================] - 0s 123us/step - loss: 0.8338 - acc: 0.6661 - val_loss: 0.8633 - val_acc: 0.6224\n",
            "Epoch 4/300\n",
            "554/554 [==============================] - 0s 143us/step - loss: 0.7589 - acc: 0.6661 - val_loss: 0.7173 - val_acc: 0.6939\n",
            "Epoch 5/300\n",
            "554/554 [==============================] - 0s 141us/step - loss: 0.7447 - acc: 0.6480 - val_loss: 0.7130 - val_acc: 0.6939\n",
            "Epoch 6/300\n",
            "554/554 [==============================] - 0s 142us/step - loss: 0.7297 - acc: 0.6462 - val_loss: 0.6720 - val_acc: 0.7551\n",
            "Epoch 7/300\n",
            "554/554 [==============================] - 0s 142us/step - loss: 0.7057 - acc: 0.6877 - val_loss: 0.6844 - val_acc: 0.7041\n",
            "Epoch 8/300\n",
            "554/554 [==============================] - 0s 147us/step - loss: 0.7202 - acc: 0.6661 - val_loss: 0.7600 - val_acc: 0.7449\n",
            "Epoch 9/300\n",
            "554/554 [==============================] - 0s 144us/step - loss: 0.6950 - acc: 0.6697 - val_loss: 0.6895 - val_acc: 0.7551\n",
            "Epoch 10/300\n",
            "554/554 [==============================] - 0s 142us/step - loss: 0.6719 - acc: 0.6751 - val_loss: 0.7284 - val_acc: 0.7347\n",
            "Epoch 11/300\n",
            "554/554 [==============================] - 0s 143us/step - loss: 0.6616 - acc: 0.6787 - val_loss: 0.7562 - val_acc: 0.7551\n",
            "Epoch 12/300\n",
            "554/554 [==============================] - 0s 145us/step - loss: 0.6399 - acc: 0.6986 - val_loss: 0.6536 - val_acc: 0.6939\n",
            "Epoch 13/300\n",
            "554/554 [==============================] - 0s 137us/step - loss: 0.6402 - acc: 0.6823 - val_loss: 0.6264 - val_acc: 0.7347\n",
            "Epoch 14/300\n",
            "554/554 [==============================] - 0s 143us/step - loss: 0.6295 - acc: 0.7022 - val_loss: 0.6156 - val_acc: 0.7347\n",
            "Epoch 15/300\n",
            "554/554 [==============================] - 0s 136us/step - loss: 0.6122 - acc: 0.7040 - val_loss: 0.6520 - val_acc: 0.6429\n",
            "Epoch 16/300\n",
            "554/554 [==============================] - 0s 135us/step - loss: 0.6225 - acc: 0.7022 - val_loss: 0.6672 - val_acc: 0.6429\n",
            "Epoch 17/300\n",
            "554/554 [==============================] - 0s 149us/step - loss: 0.6328 - acc: 0.6968 - val_loss: 0.5864 - val_acc: 0.7041\n",
            "Epoch 18/300\n",
            "554/554 [==============================] - 0s 147us/step - loss: 0.5822 - acc: 0.7166 - val_loss: 0.6461 - val_acc: 0.7755\n",
            "Epoch 19/300\n",
            "554/554 [==============================] - 0s 142us/step - loss: 0.6104 - acc: 0.6931 - val_loss: 0.5995 - val_acc: 0.7449\n",
            "Epoch 20/300\n",
            "554/554 [==============================] - 0s 133us/step - loss: 0.6067 - acc: 0.6949 - val_loss: 0.6009 - val_acc: 0.7041\n",
            "Epoch 21/300\n",
            "554/554 [==============================] - 0s 133us/step - loss: 0.5938 - acc: 0.7076 - val_loss: 0.5982 - val_acc: 0.7449\n",
            "Epoch 22/300\n",
            "554/554 [==============================] - 0s 133us/step - loss: 0.6089 - acc: 0.6931 - val_loss: 0.6049 - val_acc: 0.7347\n",
            "Epoch 23/300\n",
            "554/554 [==============================] - 0s 129us/step - loss: 0.5968 - acc: 0.6913 - val_loss: 0.6028 - val_acc: 0.7551\n",
            "Epoch 24/300\n",
            "554/554 [==============================] - 0s 144us/step - loss: 0.6339 - acc: 0.7076 - val_loss: 0.5923 - val_acc: 0.7347\n",
            "Epoch 25/300\n",
            "554/554 [==============================] - 0s 140us/step - loss: 0.5993 - acc: 0.6823 - val_loss: 0.6145 - val_acc: 0.7551\n",
            "Epoch 26/300\n",
            "554/554 [==============================] - 0s 137us/step - loss: 0.5590 - acc: 0.7130 - val_loss: 0.5811 - val_acc: 0.7245\n",
            "Epoch 27/300\n",
            "554/554 [==============================] - 0s 157us/step - loss: 0.5748 - acc: 0.7094 - val_loss: 0.6478 - val_acc: 0.6531\n",
            "Epoch 28/300\n",
            "554/554 [==============================] - 0s 112us/step - loss: 0.6096 - acc: 0.7076 - val_loss: 0.5320 - val_acc: 0.7551\n",
            "Epoch 29/300\n",
            "554/554 [==============================] - 0s 112us/step - loss: 0.5545 - acc: 0.7401 - val_loss: 0.5770 - val_acc: 0.7653\n",
            "Epoch 30/300\n",
            "554/554 [==============================] - 0s 118us/step - loss: 0.5671 - acc: 0.7238 - val_loss: 0.6340 - val_acc: 0.6633\n",
            "Epoch 31/300\n",
            "554/554 [==============================] - 0s 116us/step - loss: 0.5628 - acc: 0.7238 - val_loss: 0.5763 - val_acc: 0.7551\n",
            "Epoch 32/300\n",
            "554/554 [==============================] - 0s 123us/step - loss: 0.5748 - acc: 0.7094 - val_loss: 0.5741 - val_acc: 0.7347\n",
            "Epoch 33/300\n",
            "554/554 [==============================] - 0s 117us/step - loss: 0.5559 - acc: 0.7256 - val_loss: 0.6195 - val_acc: 0.7041\n",
            "Epoch 34/300\n",
            "554/554 [==============================] - 0s 119us/step - loss: 0.5582 - acc: 0.7112 - val_loss: 0.5735 - val_acc: 0.7755\n",
            "Epoch 35/300\n",
            "554/554 [==============================] - 0s 106us/step - loss: 0.5375 - acc: 0.7238 - val_loss: 0.5525 - val_acc: 0.7449\n",
            "Epoch 36/300\n",
            "554/554 [==============================] - 0s 120us/step - loss: 0.5684 - acc: 0.7347 - val_loss: 0.5581 - val_acc: 0.7449\n",
            "Epoch 37/300\n",
            "554/554 [==============================] - 0s 124us/step - loss: 0.5549 - acc: 0.7292 - val_loss: 0.5451 - val_acc: 0.7449\n",
            "Epoch 38/300\n",
            "554/554 [==============================] - 0s 127us/step - loss: 0.5506 - acc: 0.7347 - val_loss: 0.5543 - val_acc: 0.7347\n",
            "Epoch 39/300\n",
            "554/554 [==============================] - 0s 107us/step - loss: 0.5525 - acc: 0.7202 - val_loss: 0.5352 - val_acc: 0.7551\n",
            "Epoch 40/300\n",
            "554/554 [==============================] - 0s 117us/step - loss: 0.5656 - acc: 0.7220 - val_loss: 0.5617 - val_acc: 0.7347\n",
            "Epoch 41/300\n",
            "554/554 [==============================] - 0s 128us/step - loss: 0.5897 - acc: 0.7112 - val_loss: 0.6023 - val_acc: 0.7041\n",
            "Epoch 42/300\n",
            "554/554 [==============================] - 0s 128us/step - loss: 0.5502 - acc: 0.7130 - val_loss: 0.6222 - val_acc: 0.7245\n",
            "Epoch 43/300\n",
            "554/554 [==============================] - 0s 124us/step - loss: 0.5526 - acc: 0.7329 - val_loss: 0.5469 - val_acc: 0.7857\n",
            "Epoch 44/300\n",
            "554/554 [==============================] - 0s 111us/step - loss: 0.5886 - acc: 0.7040 - val_loss: 0.5273 - val_acc: 0.7653\n",
            "Epoch 45/300\n",
            "554/554 [==============================] - 0s 112us/step - loss: 0.5746 - acc: 0.7058 - val_loss: 0.5604 - val_acc: 0.7551\n",
            "Epoch 46/300\n",
            "554/554 [==============================] - 0s 116us/step - loss: 0.5312 - acc: 0.7437 - val_loss: 0.6141 - val_acc: 0.7449\n",
            "Epoch 47/300\n",
            "554/554 [==============================] - 0s 115us/step - loss: 0.5176 - acc: 0.7256 - val_loss: 0.5679 - val_acc: 0.7347\n",
            "Epoch 48/300\n",
            "554/554 [==============================] - 0s 116us/step - loss: 0.5360 - acc: 0.7166 - val_loss: 0.7174 - val_acc: 0.7143\n",
            "Epoch 49/300\n",
            "554/554 [==============================] - 0s 119us/step - loss: 0.5930 - acc: 0.6986 - val_loss: 0.5167 - val_acc: 0.7653\n",
            "Epoch 50/300\n",
            "554/554 [==============================] - 0s 123us/step - loss: 0.5431 - acc: 0.7292 - val_loss: 0.6280 - val_acc: 0.7143\n",
            "Epoch 51/300\n",
            "554/554 [==============================] - 0s 117us/step - loss: 0.5335 - acc: 0.7437 - val_loss: 0.5915 - val_acc: 0.7143\n",
            "Epoch 52/300\n",
            "554/554 [==============================] - 0s 120us/step - loss: 0.5239 - acc: 0.7347 - val_loss: 0.5208 - val_acc: 0.7857\n",
            "Epoch 53/300\n",
            "554/554 [==============================] - 0s 126us/step - loss: 0.5171 - acc: 0.7292 - val_loss: 0.5346 - val_acc: 0.7245\n",
            "Epoch 54/300\n",
            "554/554 [==============================] - 0s 137us/step - loss: 0.5295 - acc: 0.7256 - val_loss: 0.5606 - val_acc: 0.7143\n",
            "Epoch 55/300\n",
            "554/554 [==============================] - 0s 124us/step - loss: 0.5171 - acc: 0.7347 - val_loss: 0.5929 - val_acc: 0.6735\n",
            "Epoch 56/300\n",
            "554/554 [==============================] - 0s 123us/step - loss: 0.5335 - acc: 0.7148 - val_loss: 0.5419 - val_acc: 0.7653\n",
            "Epoch 57/300\n",
            "554/554 [==============================] - 0s 120us/step - loss: 0.5126 - acc: 0.7419 - val_loss: 0.5593 - val_acc: 0.7653\n",
            "Epoch 58/300\n",
            "554/554 [==============================] - 0s 120us/step - loss: 0.5251 - acc: 0.7383 - val_loss: 0.5497 - val_acc: 0.8061\n",
            "Epoch 59/300\n",
            "554/554 [==============================] - 0s 115us/step - loss: 0.5071 - acc: 0.7509 - val_loss: 0.5332 - val_acc: 0.7755\n",
            "Epoch 60/300\n",
            "554/554 [==============================] - 0s 126us/step - loss: 0.5131 - acc: 0.7347 - val_loss: 0.5746 - val_acc: 0.6939\n",
            "Epoch 61/300\n",
            "554/554 [==============================] - 0s 116us/step - loss: 0.5160 - acc: 0.7365 - val_loss: 0.5257 - val_acc: 0.7449\n",
            "Epoch 62/300\n",
            "554/554 [==============================] - 0s 115us/step - loss: 0.5198 - acc: 0.7473 - val_loss: 0.5518 - val_acc: 0.7449\n",
            "Epoch 63/300\n",
            "554/554 [==============================] - 0s 123us/step - loss: 0.5302 - acc: 0.7347 - val_loss: 0.5260 - val_acc: 0.7653\n",
            "Epoch 64/300\n",
            "554/554 [==============================] - 0s 122us/step - loss: 0.5278 - acc: 0.7473 - val_loss: 0.5000 - val_acc: 0.7959\n",
            "Epoch 65/300\n",
            "554/554 [==============================] - 0s 119us/step - loss: 0.4991 - acc: 0.7365 - val_loss: 0.5640 - val_acc: 0.7755\n",
            "Epoch 66/300\n",
            "554/554 [==============================] - 0s 117us/step - loss: 0.5185 - acc: 0.7238 - val_loss: 0.5261 - val_acc: 0.7347\n",
            "Epoch 67/300\n",
            "554/554 [==============================] - 0s 126us/step - loss: 0.5043 - acc: 0.7545 - val_loss: 0.5261 - val_acc: 0.7857\n",
            "Epoch 68/300\n",
            "554/554 [==============================] - 0s 120us/step - loss: 0.4922 - acc: 0.7437 - val_loss: 0.5887 - val_acc: 0.7347\n",
            "Epoch 69/300\n",
            "554/554 [==============================] - 0s 119us/step - loss: 0.5135 - acc: 0.7401 - val_loss: 0.5108 - val_acc: 0.7857\n",
            "Epoch 70/300\n",
            "554/554 [==============================] - 0s 129us/step - loss: 0.5142 - acc: 0.7473 - val_loss: 0.5228 - val_acc: 0.7959\n",
            "Epoch 71/300\n",
            "554/554 [==============================] - 0s 120us/step - loss: 0.4941 - acc: 0.7527 - val_loss: 0.5321 - val_acc: 0.7347\n",
            "Epoch 72/300\n",
            "554/554 [==============================] - 0s 111us/step - loss: 0.5061 - acc: 0.7401 - val_loss: 0.5075 - val_acc: 0.7551\n",
            "Epoch 73/300\n",
            "554/554 [==============================] - 0s 118us/step - loss: 0.4917 - acc: 0.7473 - val_loss: 0.5113 - val_acc: 0.7347\n",
            "Epoch 74/300\n",
            "554/554 [==============================] - 0s 129us/step - loss: 0.5095 - acc: 0.7491 - val_loss: 0.5597 - val_acc: 0.6939\n",
            "Epoch 75/300\n",
            "554/554 [==============================] - 0s 121us/step - loss: 0.5310 - acc: 0.7419 - val_loss: 0.5270 - val_acc: 0.7347\n",
            "Epoch 76/300\n",
            "554/554 [==============================] - 0s 118us/step - loss: 0.5395 - acc: 0.7383 - val_loss: 0.5034 - val_acc: 0.7755\n",
            "Epoch 77/300\n",
            "554/554 [==============================] - 0s 115us/step - loss: 0.5193 - acc: 0.7365 - val_loss: 0.5597 - val_acc: 0.7959\n",
            "Epoch 78/300\n",
            "554/554 [==============================] - 0s 115us/step - loss: 0.5088 - acc: 0.7329 - val_loss: 0.5357 - val_acc: 0.7041\n",
            "Epoch 79/300\n",
            "554/554 [==============================] - 0s 117us/step - loss: 0.4872 - acc: 0.7365 - val_loss: 0.5778 - val_acc: 0.7551\n",
            "Epoch 80/300\n",
            "554/554 [==============================] - 0s 121us/step - loss: 0.4810 - acc: 0.7563 - val_loss: 0.4927 - val_acc: 0.7653\n",
            "Epoch 81/300\n",
            "554/554 [==============================] - 0s 124us/step - loss: 0.4780 - acc: 0.7617 - val_loss: 0.5521 - val_acc: 0.7755\n",
            "Epoch 82/300\n",
            "554/554 [==============================] - 0s 117us/step - loss: 0.5332 - acc: 0.7347 - val_loss: 0.5715 - val_acc: 0.7143\n",
            "Epoch 83/300\n",
            "554/554 [==============================] - 0s 117us/step - loss: 0.5266 - acc: 0.7292 - val_loss: 0.5493 - val_acc: 0.7959\n",
            "Epoch 84/300\n",
            "554/554 [==============================] - 0s 125us/step - loss: 0.4840 - acc: 0.7599 - val_loss: 0.4968 - val_acc: 0.7755\n",
            "Epoch 85/300\n",
            "554/554 [==============================] - 0s 122us/step - loss: 0.4761 - acc: 0.7599 - val_loss: 0.4921 - val_acc: 0.7653\n",
            "Epoch 86/300\n",
            "554/554 [==============================] - 0s 114us/step - loss: 0.5062 - acc: 0.7437 - val_loss: 0.5691 - val_acc: 0.7449\n",
            "Epoch 87/300\n",
            "554/554 [==============================] - 0s 118us/step - loss: 0.5262 - acc: 0.7491 - val_loss: 0.5053 - val_acc: 0.7653\n",
            "Epoch 88/300\n",
            "554/554 [==============================] - 0s 121us/step - loss: 0.4913 - acc: 0.7401 - val_loss: 0.5890 - val_acc: 0.6735\n",
            "Epoch 89/300\n",
            "554/554 [==============================] - 0s 117us/step - loss: 0.4995 - acc: 0.7365 - val_loss: 0.5334 - val_acc: 0.7347\n",
            "Epoch 90/300\n",
            "554/554 [==============================] - 0s 114us/step - loss: 0.4821 - acc: 0.7563 - val_loss: 0.5061 - val_acc: 0.7245\n",
            "Epoch 91/300\n",
            "554/554 [==============================] - 0s 117us/step - loss: 0.4861 - acc: 0.7617 - val_loss: 0.5564 - val_acc: 0.7551\n",
            "Epoch 92/300\n",
            "554/554 [==============================] - 0s 122us/step - loss: 0.5017 - acc: 0.7437 - val_loss: 0.5039 - val_acc: 0.7857\n",
            "Epoch 93/300\n",
            "554/554 [==============================] - 0s 126us/step - loss: 0.5117 - acc: 0.7419 - val_loss: 0.5667 - val_acc: 0.7143\n",
            "Epoch 94/300\n",
            "554/554 [==============================] - 0s 114us/step - loss: 0.4816 - acc: 0.7671 - val_loss: 0.5007 - val_acc: 0.7653\n",
            "Epoch 95/300\n",
            "554/554 [==============================] - 0s 120us/step - loss: 0.4997 - acc: 0.7581 - val_loss: 0.5228 - val_acc: 0.7143\n",
            "Epoch 96/300\n",
            "554/554 [==============================] - 0s 120us/step - loss: 0.4825 - acc: 0.7708 - val_loss: 0.4853 - val_acc: 0.7653\n",
            "Epoch 97/300\n",
            "554/554 [==============================] - 0s 118us/step - loss: 0.4743 - acc: 0.7653 - val_loss: 0.5523 - val_acc: 0.7041\n",
            "Epoch 98/300\n",
            "554/554 [==============================] - 0s 116us/step - loss: 0.4941 - acc: 0.7635 - val_loss: 0.5034 - val_acc: 0.7755\n",
            "Epoch 99/300\n",
            "554/554 [==============================] - 0s 125us/step - loss: 0.4908 - acc: 0.7744 - val_loss: 0.5029 - val_acc: 0.7449\n",
            "Epoch 100/300\n",
            "554/554 [==============================] - 0s 127us/step - loss: 0.4868 - acc: 0.7671 - val_loss: 0.4915 - val_acc: 0.7653\n",
            "Epoch 101/300\n",
            "554/554 [==============================] - 0s 118us/step - loss: 0.4800 - acc: 0.7581 - val_loss: 0.5353 - val_acc: 0.7245\n",
            "Epoch 102/300\n",
            "554/554 [==============================] - 0s 123us/step - loss: 0.4905 - acc: 0.7690 - val_loss: 0.5797 - val_acc: 0.7041\n",
            "Epoch 103/300\n",
            "554/554 [==============================] - 0s 121us/step - loss: 0.4920 - acc: 0.7545 - val_loss: 0.4873 - val_acc: 0.7551\n",
            "Epoch 104/300\n",
            "554/554 [==============================] - 0s 121us/step - loss: 0.4913 - acc: 0.7581 - val_loss: 0.5113 - val_acc: 0.7347\n",
            "Epoch 105/300\n",
            "554/554 [==============================] - 0s 125us/step - loss: 0.4924 - acc: 0.7491 - val_loss: 0.4982 - val_acc: 0.7857\n",
            "Epoch 106/300\n",
            "554/554 [==============================] - 0s 117us/step - loss: 0.4919 - acc: 0.7635 - val_loss: 0.5406 - val_acc: 0.7653\n",
            "Epoch 107/300\n",
            "554/554 [==============================] - 0s 106us/step - loss: 0.5025 - acc: 0.7635 - val_loss: 0.5095 - val_acc: 0.7857\n",
            "Epoch 108/300\n",
            "554/554 [==============================] - 0s 120us/step - loss: 0.5004 - acc: 0.7545 - val_loss: 0.5134 - val_acc: 0.7245\n",
            "Epoch 109/300\n",
            "554/554 [==============================] - 0s 120us/step - loss: 0.5045 - acc: 0.7527 - val_loss: 0.5428 - val_acc: 0.7755\n",
            "Epoch 110/300\n",
            "554/554 [==============================] - 0s 116us/step - loss: 0.4725 - acc: 0.7780 - val_loss: 0.4787 - val_acc: 0.7551\n",
            "Epoch 111/300\n",
            "554/554 [==============================] - 0s 118us/step - loss: 0.5185 - acc: 0.7274 - val_loss: 0.5106 - val_acc: 0.7653\n",
            "Epoch 112/300\n",
            "554/554 [==============================] - 0s 118us/step - loss: 0.4656 - acc: 0.7726 - val_loss: 0.5103 - val_acc: 0.7347\n",
            "Epoch 113/300\n",
            "554/554 [==============================] - 0s 122us/step - loss: 0.4804 - acc: 0.7545 - val_loss: 0.5193 - val_acc: 0.7347\n",
            "Epoch 114/300\n",
            "554/554 [==============================] - 0s 111us/step - loss: 0.4685 - acc: 0.7563 - val_loss: 0.5369 - val_acc: 0.7755\n",
            "Epoch 115/300\n",
            "554/554 [==============================] - 0s 116us/step - loss: 0.4978 - acc: 0.7455 - val_loss: 0.5125 - val_acc: 0.7551\n",
            "Epoch 116/300\n",
            "554/554 [==============================] - 0s 111us/step - loss: 0.4905 - acc: 0.7635 - val_loss: 0.5063 - val_acc: 0.7755\n",
            "Epoch 117/300\n",
            "554/554 [==============================] - 0s 114us/step - loss: 0.4899 - acc: 0.7545 - val_loss: 0.5070 - val_acc: 0.7245\n",
            "Epoch 118/300\n",
            "554/554 [==============================] - 0s 113us/step - loss: 0.4780 - acc: 0.7653 - val_loss: 0.5603 - val_acc: 0.7449\n",
            "Epoch 119/300\n",
            "554/554 [==============================] - 0s 114us/step - loss: 0.4662 - acc: 0.7762 - val_loss: 0.5629 - val_acc: 0.7653\n",
            "Epoch 120/300\n",
            "554/554 [==============================] - 0s 113us/step - loss: 0.4756 - acc: 0.7671 - val_loss: 0.5007 - val_acc: 0.7755\n",
            "Epoch 121/300\n",
            "554/554 [==============================] - 0s 116us/step - loss: 0.4711 - acc: 0.7599 - val_loss: 0.4928 - val_acc: 0.7347\n",
            "Epoch 122/300\n",
            "554/554 [==============================] - 0s 117us/step - loss: 0.4849 - acc: 0.7563 - val_loss: 0.4952 - val_acc: 0.7245\n",
            "Epoch 123/300\n",
            "554/554 [==============================] - 0s 132us/step - loss: 0.4921 - acc: 0.7653 - val_loss: 0.5936 - val_acc: 0.6837\n",
            "Epoch 124/300\n",
            "554/554 [==============================] - 0s 108us/step - loss: 0.4633 - acc: 0.7653 - val_loss: 0.4896 - val_acc: 0.7551\n",
            "Epoch 125/300\n",
            "554/554 [==============================] - 0s 106us/step - loss: 0.4712 - acc: 0.7708 - val_loss: 0.6439 - val_acc: 0.6531\n",
            "Epoch 126/300\n",
            "554/554 [==============================] - 0s 130us/step - loss: 0.4663 - acc: 0.7599 - val_loss: 0.4859 - val_acc: 0.7245\n",
            "Epoch 127/300\n",
            "554/554 [==============================] - 0s 124us/step - loss: 0.4580 - acc: 0.7816 - val_loss: 0.5426 - val_acc: 0.7245\n",
            "Epoch 128/300\n",
            "554/554 [==============================] - 0s 118us/step - loss: 0.4826 - acc: 0.7581 - val_loss: 0.4913 - val_acc: 0.7245\n",
            "Epoch 129/300\n",
            "554/554 [==============================] - 0s 111us/step - loss: 0.4662 - acc: 0.7744 - val_loss: 0.5358 - val_acc: 0.7551\n",
            "Epoch 130/300\n",
            "554/554 [==============================] - 0s 117us/step - loss: 0.4848 - acc: 0.7563 - val_loss: 0.5511 - val_acc: 0.7449\n",
            "Epoch 131/300\n",
            "554/554 [==============================] - 0s 119us/step - loss: 0.4639 - acc: 0.7545 - val_loss: 0.5200 - val_acc: 0.7347\n",
            "Epoch 132/300\n",
            "554/554 [==============================] - 0s 120us/step - loss: 0.4828 - acc: 0.7744 - val_loss: 0.5351 - val_acc: 0.7653\n",
            "Epoch 133/300\n",
            "554/554 [==============================] - 0s 114us/step - loss: 0.4735 - acc: 0.7690 - val_loss: 0.5272 - val_acc: 0.7449\n",
            "Epoch 134/300\n",
            "554/554 [==============================] - 0s 115us/step - loss: 0.4630 - acc: 0.7671 - val_loss: 0.4804 - val_acc: 0.7449\n",
            "Epoch 135/300\n",
            "554/554 [==============================] - 0s 118us/step - loss: 0.4481 - acc: 0.7653 - val_loss: 0.5686 - val_acc: 0.7653\n",
            "Epoch 136/300\n",
            "554/554 [==============================] - 0s 122us/step - loss: 0.4628 - acc: 0.7798 - val_loss: 0.4957 - val_acc: 0.7551\n",
            "Epoch 137/300\n",
            "554/554 [==============================] - 0s 120us/step - loss: 0.4660 - acc: 0.7726 - val_loss: 0.4739 - val_acc: 0.7551\n",
            "Epoch 138/300\n",
            "554/554 [==============================] - 0s 118us/step - loss: 0.4666 - acc: 0.7726 - val_loss: 0.5110 - val_acc: 0.7857\n",
            "Epoch 139/300\n",
            "554/554 [==============================] - 0s 115us/step - loss: 0.4744 - acc: 0.7599 - val_loss: 0.4962 - val_acc: 0.7449\n",
            "Epoch 140/300\n",
            "554/554 [==============================] - 0s 120us/step - loss: 0.4615 - acc: 0.7671 - val_loss: 0.4964 - val_acc: 0.7245\n",
            "Epoch 141/300\n",
            "554/554 [==============================] - 0s 115us/step - loss: 0.4633 - acc: 0.7671 - val_loss: 0.4934 - val_acc: 0.7449\n",
            "Epoch 142/300\n",
            "554/554 [==============================] - 0s 123us/step - loss: 0.4653 - acc: 0.7816 - val_loss: 0.4884 - val_acc: 0.7449\n",
            "Epoch 143/300\n",
            "554/554 [==============================] - 0s 125us/step - loss: 0.5473 - acc: 0.7581 - val_loss: 0.5438 - val_acc: 0.7449\n",
            "Epoch 144/300\n",
            "554/554 [==============================] - 0s 131us/step - loss: 0.4592 - acc: 0.7852 - val_loss: 0.5216 - val_acc: 0.7347\n",
            "Epoch 145/300\n",
            "554/554 [==============================] - 0s 119us/step - loss: 0.4704 - acc: 0.7762 - val_loss: 0.5158 - val_acc: 0.7245\n",
            "Epoch 146/300\n",
            "554/554 [==============================] - 0s 115us/step - loss: 0.4694 - acc: 0.7726 - val_loss: 0.4971 - val_acc: 0.7245\n",
            "Epoch 147/300\n",
            "554/554 [==============================] - 0s 115us/step - loss: 0.4586 - acc: 0.7816 - val_loss: 0.4870 - val_acc: 0.7857\n",
            "Epoch 148/300\n",
            "554/554 [==============================] - 0s 119us/step - loss: 0.4526 - acc: 0.7545 - val_loss: 0.4865 - val_acc: 0.7449\n",
            "Epoch 149/300\n",
            "554/554 [==============================] - 0s 116us/step - loss: 0.4797 - acc: 0.7365 - val_loss: 0.4809 - val_acc: 0.7449\n",
            "Epoch 150/300\n",
            "554/554 [==============================] - 0s 121us/step - loss: 0.4549 - acc: 0.7744 - val_loss: 0.5320 - val_acc: 0.7755\n",
            "Epoch 151/300\n",
            "554/554 [==============================] - 0s 122us/step - loss: 0.4656 - acc: 0.7780 - val_loss: 0.5029 - val_acc: 0.7959\n",
            "Epoch 152/300\n",
            "554/554 [==============================] - 0s 117us/step - loss: 0.4868 - acc: 0.7527 - val_loss: 0.4857 - val_acc: 0.7449\n",
            "Epoch 153/300\n",
            "554/554 [==============================] - 0s 120us/step - loss: 0.4579 - acc: 0.7671 - val_loss: 0.4904 - val_acc: 0.7551\n",
            "Epoch 154/300\n",
            "554/554 [==============================] - 0s 116us/step - loss: 0.4457 - acc: 0.7906 - val_loss: 0.5659 - val_acc: 0.7347\n",
            "Epoch 155/300\n",
            "554/554 [==============================] - 0s 118us/step - loss: 0.4716 - acc: 0.7527 - val_loss: 0.5155 - val_acc: 0.7449\n",
            "Epoch 156/300\n",
            "554/554 [==============================] - 0s 117us/step - loss: 0.4580 - acc: 0.7798 - val_loss: 0.5325 - val_acc: 0.7347\n",
            "Epoch 157/300\n",
            "554/554 [==============================] - 0s 124us/step - loss: 0.4718 - acc: 0.7617 - val_loss: 0.5104 - val_acc: 0.7347\n",
            "Epoch 158/300\n",
            "554/554 [==============================] - 0s 128us/step - loss: 0.4688 - acc: 0.7762 - val_loss: 0.5033 - val_acc: 0.7551\n",
            "Epoch 159/300\n",
            "554/554 [==============================] - 0s 113us/step - loss: 0.4650 - acc: 0.7870 - val_loss: 0.6339 - val_acc: 0.6735\n",
            "Epoch 160/300\n",
            "554/554 [==============================] - 0s 114us/step - loss: 0.4973 - acc: 0.7491 - val_loss: 0.5007 - val_acc: 0.7959\n",
            "Epoch 161/300\n",
            "554/554 [==============================] - 0s 116us/step - loss: 0.4814 - acc: 0.7563 - val_loss: 0.5299 - val_acc: 0.7551\n",
            "Epoch 162/300\n",
            "554/554 [==============================] - 0s 126us/step - loss: 0.4648 - acc: 0.7690 - val_loss: 0.5081 - val_acc: 0.7245\n",
            "Epoch 163/300\n",
            "554/554 [==============================] - 0s 121us/step - loss: 0.4553 - acc: 0.7744 - val_loss: 0.5073 - val_acc: 0.7143\n",
            "Epoch 164/300\n",
            "554/554 [==============================] - 0s 116us/step - loss: 0.4541 - acc: 0.7744 - val_loss: 0.4896 - val_acc: 0.7347\n",
            "Epoch 165/300\n",
            "554/554 [==============================] - 0s 102us/step - loss: 0.4553 - acc: 0.7780 - val_loss: 0.5177 - val_acc: 0.7449\n",
            "Epoch 166/300\n",
            "554/554 [==============================] - 0s 112us/step - loss: 0.4603 - acc: 0.7581 - val_loss: 0.5363 - val_acc: 0.7551\n",
            "Epoch 167/300\n",
            "554/554 [==============================] - 0s 115us/step - loss: 0.4811 - acc: 0.7690 - val_loss: 0.4871 - val_acc: 0.7347\n",
            "Epoch 168/300\n",
            "554/554 [==============================] - 0s 125us/step - loss: 0.4647 - acc: 0.7671 - val_loss: 0.5492 - val_acc: 0.7041\n",
            "Epoch 169/300\n",
            "554/554 [==============================] - 0s 114us/step - loss: 0.4683 - acc: 0.7581 - val_loss: 0.4929 - val_acc: 0.7245\n",
            "Epoch 170/300\n",
            "554/554 [==============================] - 0s 119us/step - loss: 0.4558 - acc: 0.7798 - val_loss: 0.5724 - val_acc: 0.7143\n",
            "Epoch 171/300\n",
            "554/554 [==============================] - 0s 103us/step - loss: 0.4676 - acc: 0.7671 - val_loss: 0.4867 - val_acc: 0.7857\n",
            "Epoch 172/300\n",
            "554/554 [==============================] - 0s 130us/step - loss: 0.4468 - acc: 0.7744 - val_loss: 0.5174 - val_acc: 0.7347\n",
            "Epoch 173/300\n",
            "554/554 [==============================] - 0s 122us/step - loss: 0.4552 - acc: 0.7798 - val_loss: 0.5035 - val_acc: 0.7449\n",
            "Epoch 174/300\n",
            "554/554 [==============================] - 0s 118us/step - loss: 0.4421 - acc: 0.7888 - val_loss: 0.5330 - val_acc: 0.7245\n",
            "Epoch 175/300\n",
            "554/554 [==============================] - 0s 103us/step - loss: 0.4724 - acc: 0.7653 - val_loss: 0.5000 - val_acc: 0.7347\n",
            "Epoch 176/300\n",
            "554/554 [==============================] - 0s 122us/step - loss: 0.4366 - acc: 0.8087 - val_loss: 0.4860 - val_acc: 0.7245\n",
            "Epoch 177/300\n",
            "554/554 [==============================] - 0s 129us/step - loss: 0.4738 - acc: 0.7708 - val_loss: 0.4937 - val_acc: 0.7347\n",
            "Epoch 178/300\n",
            "554/554 [==============================] - 0s 152us/step - loss: 0.4596 - acc: 0.7726 - val_loss: 0.5511 - val_acc: 0.7347\n",
            "Epoch 179/300\n",
            "554/554 [==============================] - 0s 115us/step - loss: 0.4630 - acc: 0.7852 - val_loss: 0.5716 - val_acc: 0.6837\n",
            "Epoch 180/300\n",
            "554/554 [==============================] - 0s 118us/step - loss: 0.4823 - acc: 0.7744 - val_loss: 0.4877 - val_acc: 0.7449\n",
            "Epoch 181/300\n",
            "554/554 [==============================] - 0s 105us/step - loss: 0.4551 - acc: 0.7671 - val_loss: 0.5784 - val_acc: 0.7551\n",
            "Epoch 182/300\n",
            "554/554 [==============================] - 0s 103us/step - loss: 0.4580 - acc: 0.7888 - val_loss: 0.5148 - val_acc: 0.7551\n",
            "Epoch 183/300\n",
            "554/554 [==============================] - 0s 124us/step - loss: 0.4546 - acc: 0.7762 - val_loss: 0.5177 - val_acc: 0.7347\n",
            "Epoch 184/300\n",
            "554/554 [==============================] - 0s 121us/step - loss: 0.4526 - acc: 0.7617 - val_loss: 0.4853 - val_acc: 0.7551\n",
            "Epoch 185/300\n",
            "554/554 [==============================] - 0s 125us/step - loss: 0.4615 - acc: 0.7780 - val_loss: 0.4938 - val_acc: 0.7347\n",
            "Epoch 186/300\n",
            "554/554 [==============================] - 0s 118us/step - loss: 0.4497 - acc: 0.7816 - val_loss: 0.4982 - val_acc: 0.7755\n",
            "Epoch 187/300\n",
            "554/554 [==============================] - 0s 113us/step - loss: 0.4383 - acc: 0.7888 - val_loss: 0.4891 - val_acc: 0.7449\n",
            "Epoch 188/300\n",
            "554/554 [==============================] - 0s 103us/step - loss: 0.4628 - acc: 0.7762 - val_loss: 0.5450 - val_acc: 0.7347\n",
            "Epoch 189/300\n",
            "554/554 [==============================] - 0s 119us/step - loss: 0.4519 - acc: 0.7834 - val_loss: 0.5197 - val_acc: 0.7551\n",
            "Epoch 190/300\n",
            "554/554 [==============================] - 0s 103us/step - loss: 0.4563 - acc: 0.7870 - val_loss: 0.5119 - val_acc: 0.7347\n",
            "Epoch 191/300\n",
            "554/554 [==============================] - 0s 127us/step - loss: 0.4703 - acc: 0.7708 - val_loss: 0.4795 - val_acc: 0.7959\n",
            "Epoch 192/300\n",
            "554/554 [==============================] - 0s 116us/step - loss: 0.4601 - acc: 0.7744 - val_loss: 0.5435 - val_acc: 0.7347\n",
            "Epoch 193/300\n",
            "554/554 [==============================] - 0s 106us/step - loss: 0.4596 - acc: 0.7762 - val_loss: 0.5236 - val_acc: 0.7551\n",
            "Epoch 194/300\n",
            "554/554 [==============================] - 0s 123us/step - loss: 0.4455 - acc: 0.7852 - val_loss: 0.4706 - val_acc: 0.7857\n",
            "Epoch 195/300\n",
            "554/554 [==============================] - 0s 116us/step - loss: 0.4515 - acc: 0.7798 - val_loss: 0.5077 - val_acc: 0.7347\n",
            "Epoch 196/300\n",
            "554/554 [==============================] - 0s 112us/step - loss: 0.4422 - acc: 0.7816 - val_loss: 0.5111 - val_acc: 0.7347\n",
            "Epoch 197/300\n",
            "554/554 [==============================] - 0s 109us/step - loss: 0.4565 - acc: 0.7996 - val_loss: 0.4803 - val_acc: 0.7653\n",
            "Epoch 198/300\n",
            "554/554 [==============================] - 0s 112us/step - loss: 0.4511 - acc: 0.7834 - val_loss: 0.5905 - val_acc: 0.7245\n",
            "Epoch 199/300\n",
            "554/554 [==============================] - 0s 118us/step - loss: 0.4591 - acc: 0.7780 - val_loss: 0.5195 - val_acc: 0.7449\n",
            "Epoch 200/300\n",
            "554/554 [==============================] - 0s 125us/step - loss: 0.4412 - acc: 0.7942 - val_loss: 0.5041 - val_acc: 0.7449\n",
            "Epoch 201/300\n",
            "554/554 [==============================] - 0s 122us/step - loss: 0.4515 - acc: 0.7798 - val_loss: 0.5177 - val_acc: 0.7755\n",
            "Epoch 202/300\n",
            "554/554 [==============================] - 0s 115us/step - loss: 0.4567 - acc: 0.7762 - val_loss: 0.4975 - val_acc: 0.7653\n",
            "Epoch 203/300\n",
            "554/554 [==============================] - 0s 114us/step - loss: 0.4512 - acc: 0.7708 - val_loss: 0.5348 - val_acc: 0.7551\n",
            "Epoch 204/300\n",
            "554/554 [==============================] - 0s 123us/step - loss: 0.4504 - acc: 0.7816 - val_loss: 0.5053 - val_acc: 0.7245\n",
            "Epoch 205/300\n",
            "554/554 [==============================] - 0s 118us/step - loss: 0.4442 - acc: 0.7726 - val_loss: 0.5049 - val_acc: 0.7347\n",
            "Epoch 206/300\n",
            "554/554 [==============================] - 0s 122us/step - loss: 0.4418 - acc: 0.7798 - val_loss: 0.4895 - val_acc: 0.7449\n",
            "Epoch 207/300\n",
            "554/554 [==============================] - 0s 113us/step - loss: 0.4412 - acc: 0.7726 - val_loss: 0.4967 - val_acc: 0.7449\n",
            "Epoch 208/300\n",
            "554/554 [==============================] - 0s 129us/step - loss: 0.4627 - acc: 0.7708 - val_loss: 0.5769 - val_acc: 0.7449\n",
            "Epoch 209/300\n",
            "554/554 [==============================] - 0s 120us/step - loss: 0.4546 - acc: 0.7798 - val_loss: 0.4959 - val_acc: 0.7449\n",
            "Epoch 210/300\n",
            "554/554 [==============================] - 0s 106us/step - loss: 0.4705 - acc: 0.7798 - val_loss: 0.5426 - val_acc: 0.7347\n",
            "Epoch 211/300\n",
            "554/554 [==============================] - 0s 112us/step - loss: 0.4708 - acc: 0.7726 - val_loss: 0.5229 - val_acc: 0.7449\n",
            "Epoch 212/300\n",
            "554/554 [==============================] - 0s 110us/step - loss: 0.4287 - acc: 0.7870 - val_loss: 0.6269 - val_acc: 0.7041\n",
            "Epoch 213/300\n",
            "554/554 [==============================] - 0s 105us/step - loss: 0.4449 - acc: 0.7708 - val_loss: 0.5076 - val_acc: 0.7449\n",
            "Epoch 214/300\n",
            "554/554 [==============================] - 0s 119us/step - loss: 0.4609 - acc: 0.7653 - val_loss: 0.5412 - val_acc: 0.7245\n",
            "Epoch 215/300\n",
            "554/554 [==============================] - 0s 117us/step - loss: 0.5453 - acc: 0.7365 - val_loss: 0.4836 - val_acc: 0.7857\n",
            "Epoch 216/300\n",
            "554/554 [==============================] - 0s 102us/step - loss: 0.4661 - acc: 0.7690 - val_loss: 0.4760 - val_acc: 0.7449\n",
            "Epoch 217/300\n",
            "554/554 [==============================] - 0s 115us/step - loss: 0.4411 - acc: 0.7834 - val_loss: 0.4938 - val_acc: 0.7653\n",
            "Epoch 218/300\n",
            "554/554 [==============================] - 0s 115us/step - loss: 0.4536 - acc: 0.7762 - val_loss: 0.5365 - val_acc: 0.7653\n",
            "Epoch 219/300\n",
            "554/554 [==============================] - 0s 117us/step - loss: 0.4522 - acc: 0.7798 - val_loss: 0.4913 - val_acc: 0.7347\n",
            "Epoch 220/300\n",
            "554/554 [==============================] - 0s 120us/step - loss: 0.4362 - acc: 0.8014 - val_loss: 0.4875 - val_acc: 0.7449\n",
            "Epoch 221/300\n",
            "554/554 [==============================] - 0s 119us/step - loss: 0.4599 - acc: 0.7690 - val_loss: 0.6074 - val_acc: 0.7245\n",
            "Epoch 222/300\n",
            "554/554 [==============================] - 0s 122us/step - loss: 0.4598 - acc: 0.7708 - val_loss: 0.4668 - val_acc: 0.7347\n",
            "Epoch 223/300\n",
            "554/554 [==============================] - 0s 124us/step - loss: 0.4389 - acc: 0.7816 - val_loss: 0.5080 - val_acc: 0.7245\n",
            "Epoch 224/300\n",
            "554/554 [==============================] - 0s 113us/step - loss: 0.4484 - acc: 0.7762 - val_loss: 0.4807 - val_acc: 0.7449\n",
            "Epoch 225/300\n",
            "554/554 [==============================] - 0s 122us/step - loss: 0.4552 - acc: 0.7798 - val_loss: 0.4741 - val_acc: 0.7857\n",
            "Epoch 226/300\n",
            "554/554 [==============================] - 0s 118us/step - loss: 0.4546 - acc: 0.7816 - val_loss: 0.5943 - val_acc: 0.6939\n",
            "Epoch 227/300\n",
            "554/554 [==============================] - 0s 113us/step - loss: 0.4765 - acc: 0.7744 - val_loss: 0.4821 - val_acc: 0.7449\n",
            "Epoch 228/300\n",
            "554/554 [==============================] - 0s 124us/step - loss: 0.4742 - acc: 0.7798 - val_loss: 0.5407 - val_acc: 0.7551\n",
            "Epoch 229/300\n",
            "554/554 [==============================] - 0s 114us/step - loss: 0.4397 - acc: 0.7942 - val_loss: 0.5934 - val_acc: 0.6837\n",
            "Epoch 230/300\n",
            "554/554 [==============================] - 0s 115us/step - loss: 0.4434 - acc: 0.7870 - val_loss: 0.5241 - val_acc: 0.7653\n",
            "Epoch 231/300\n",
            "554/554 [==============================] - 0s 121us/step - loss: 0.4658 - acc: 0.7798 - val_loss: 0.4815 - val_acc: 0.7551\n",
            "Epoch 232/300\n",
            "554/554 [==============================] - 0s 133us/step - loss: 0.4398 - acc: 0.7870 - val_loss: 0.4951 - val_acc: 0.7347\n",
            "Epoch 233/300\n",
            "554/554 [==============================] - 0s 107us/step - loss: 0.4370 - acc: 0.7942 - val_loss: 0.4917 - val_acc: 0.7449\n",
            "Epoch 234/300\n",
            "554/554 [==============================] - 0s 119us/step - loss: 0.4272 - acc: 0.7924 - val_loss: 0.4909 - val_acc: 0.7143\n",
            "Epoch 235/300\n",
            "554/554 [==============================] - 0s 128us/step - loss: 0.4492 - acc: 0.7870 - val_loss: 0.4845 - val_acc: 0.7653\n",
            "Epoch 236/300\n",
            "554/554 [==============================] - 0s 117us/step - loss: 0.4542 - acc: 0.7870 - val_loss: 0.4990 - val_acc: 0.7347\n",
            "Epoch 237/300\n",
            "554/554 [==============================] - 0s 123us/step - loss: 0.4807 - acc: 0.7635 - val_loss: 0.5484 - val_acc: 0.7551\n",
            "Epoch 238/300\n",
            "554/554 [==============================] - 0s 120us/step - loss: 0.4303 - acc: 0.7942 - val_loss: 0.5453 - val_acc: 0.7755\n",
            "Epoch 239/300\n",
            "554/554 [==============================] - 0s 122us/step - loss: 0.4556 - acc: 0.7834 - val_loss: 0.5165 - val_acc: 0.7449\n",
            "Epoch 240/300\n",
            "554/554 [==============================] - 0s 117us/step - loss: 0.4426 - acc: 0.7798 - val_loss: 0.5703 - val_acc: 0.7551\n",
            "Epoch 241/300\n",
            "554/554 [==============================] - 0s 122us/step - loss: 0.4454 - acc: 0.7726 - val_loss: 0.5166 - val_acc: 0.7551\n",
            "Epoch 242/300\n",
            "554/554 [==============================] - 0s 113us/step - loss: 0.4382 - acc: 0.7888 - val_loss: 0.5062 - val_acc: 0.7347\n",
            "Epoch 243/300\n",
            "554/554 [==============================] - 0s 119us/step - loss: 0.4340 - acc: 0.7960 - val_loss: 0.4796 - val_acc: 0.7449\n",
            "Epoch 244/300\n",
            "554/554 [==============================] - 0s 122us/step - loss: 0.4351 - acc: 0.7816 - val_loss: 0.4904 - val_acc: 0.7143\n",
            "Epoch 245/300\n",
            "554/554 [==============================] - 0s 123us/step - loss: 0.4325 - acc: 0.7798 - val_loss: 0.5099 - val_acc: 0.7653\n",
            "Epoch 246/300\n",
            "554/554 [==============================] - 0s 116us/step - loss: 0.4519 - acc: 0.7690 - val_loss: 0.4848 - val_acc: 0.7347\n",
            "Epoch 247/300\n",
            "554/554 [==============================] - 0s 119us/step - loss: 0.4605 - acc: 0.7852 - val_loss: 0.5139 - val_acc: 0.7551\n",
            "Epoch 248/300\n",
            "554/554 [==============================] - 0s 117us/step - loss: 0.4313 - acc: 0.7834 - val_loss: 0.4615 - val_acc: 0.7347\n",
            "Epoch 249/300\n",
            "554/554 [==============================] - 0s 125us/step - loss: 0.4439 - acc: 0.7888 - val_loss: 0.5016 - val_acc: 0.7245\n",
            "Epoch 250/300\n",
            "554/554 [==============================] - 0s 121us/step - loss: 0.4377 - acc: 0.7942 - val_loss: 0.4791 - val_acc: 0.7449\n",
            "Epoch 251/300\n",
            "554/554 [==============================] - 0s 119us/step - loss: 0.4446 - acc: 0.7852 - val_loss: 0.4807 - val_acc: 0.7449\n",
            "Epoch 252/300\n",
            "554/554 [==============================] - 0s 118us/step - loss: 0.4458 - acc: 0.7690 - val_loss: 0.5596 - val_acc: 0.7551\n",
            "Epoch 253/300\n",
            "554/554 [==============================] - 0s 116us/step - loss: 0.4381 - acc: 0.7978 - val_loss: 0.5063 - val_acc: 0.7755\n",
            "Epoch 254/300\n",
            "554/554 [==============================] - 0s 115us/step - loss: 0.4261 - acc: 0.7996 - val_loss: 0.5338 - val_acc: 0.7857\n",
            "Epoch 255/300\n",
            "554/554 [==============================] - 0s 121us/step - loss: 0.4251 - acc: 0.7978 - val_loss: 0.5077 - val_acc: 0.7449\n",
            "Epoch 256/300\n",
            "554/554 [==============================] - 0s 125us/step - loss: 0.4342 - acc: 0.7960 - val_loss: 0.5456 - val_acc: 0.7551\n",
            "Epoch 257/300\n",
            "554/554 [==============================] - 0s 114us/step - loss: 0.4560 - acc: 0.8069 - val_loss: 0.5025 - val_acc: 0.7653\n",
            "Epoch 258/300\n",
            "554/554 [==============================] - 0s 118us/step - loss: 0.4387 - acc: 0.7852 - val_loss: 0.5520 - val_acc: 0.7449\n",
            "Epoch 259/300\n",
            "554/554 [==============================] - 0s 121us/step - loss: 0.4322 - acc: 0.7960 - val_loss: 0.4855 - val_acc: 0.7449\n",
            "Epoch 260/300\n",
            "554/554 [==============================] - 0s 129us/step - loss: 0.4207 - acc: 0.7870 - val_loss: 0.4692 - val_acc: 0.7245\n",
            "Epoch 261/300\n",
            "554/554 [==============================] - 0s 120us/step - loss: 0.4373 - acc: 0.7852 - val_loss: 0.5263 - val_acc: 0.7653\n",
            "Epoch 262/300\n",
            "554/554 [==============================] - 0s 117us/step - loss: 0.4409 - acc: 0.7834 - val_loss: 0.4812 - val_acc: 0.7347\n",
            "Epoch 263/300\n",
            "554/554 [==============================] - 0s 118us/step - loss: 0.4316 - acc: 0.7996 - val_loss: 0.5460 - val_acc: 0.7143\n",
            "Epoch 264/300\n",
            "554/554 [==============================] - 0s 119us/step - loss: 0.4652 - acc: 0.7726 - val_loss: 0.4817 - val_acc: 0.7653\n",
            "Epoch 265/300\n",
            "554/554 [==============================] - 0s 115us/step - loss: 0.4239 - acc: 0.8051 - val_loss: 0.5119 - val_acc: 0.7245\n",
            "Epoch 266/300\n",
            "554/554 [==============================] - 0s 122us/step - loss: 0.4335 - acc: 0.7978 - val_loss: 0.5010 - val_acc: 0.7449\n",
            "Epoch 267/300\n",
            "554/554 [==============================] - 0s 131us/step - loss: 0.4320 - acc: 0.8014 - val_loss: 0.4937 - val_acc: 0.7551\n",
            "Epoch 268/300\n",
            "554/554 [==============================] - 0s 113us/step - loss: 0.4357 - acc: 0.8051 - val_loss: 0.4736 - val_acc: 0.7347\n",
            "Epoch 269/300\n",
            "554/554 [==============================] - 0s 118us/step - loss: 0.4141 - acc: 0.8231 - val_loss: 0.5509 - val_acc: 0.7245\n",
            "Epoch 270/300\n",
            "554/554 [==============================] - 0s 114us/step - loss: 0.4367 - acc: 0.8051 - val_loss: 0.4943 - val_acc: 0.7245\n",
            "Epoch 271/300\n",
            "554/554 [==============================] - 0s 128us/step - loss: 0.4370 - acc: 0.8014 - val_loss: 0.4788 - val_acc: 0.7551\n",
            "Epoch 272/300\n",
            "554/554 [==============================] - 0s 122us/step - loss: 0.4459 - acc: 0.7852 - val_loss: 0.4920 - val_acc: 0.7653\n",
            "Epoch 273/300\n",
            "554/554 [==============================] - 0s 124us/step - loss: 0.4523 - acc: 0.7834 - val_loss: 0.4869 - val_acc: 0.7347\n",
            "Epoch 274/300\n",
            "554/554 [==============================] - 0s 124us/step - loss: 0.4273 - acc: 0.8014 - val_loss: 0.4907 - val_acc: 0.7347\n",
            "Epoch 275/300\n",
            "554/554 [==============================] - 0s 134us/step - loss: 0.4359 - acc: 0.7996 - val_loss: 0.5494 - val_acc: 0.7245\n",
            "Epoch 276/300\n",
            "554/554 [==============================] - 0s 116us/step - loss: 0.4336 - acc: 0.7888 - val_loss: 0.4977 - val_acc: 0.7347\n",
            "Epoch 277/300\n",
            "554/554 [==============================] - 0s 112us/step - loss: 0.4387 - acc: 0.7996 - val_loss: 0.4703 - val_acc: 0.7347\n",
            "Epoch 278/300\n",
            "554/554 [==============================] - 0s 111us/step - loss: 0.4219 - acc: 0.8069 - val_loss: 0.5713 - val_acc: 0.7143\n",
            "Epoch 279/300\n",
            "554/554 [==============================] - 0s 116us/step - loss: 0.4439 - acc: 0.7960 - val_loss: 0.5481 - val_acc: 0.7755\n",
            "Epoch 280/300\n",
            "554/554 [==============================] - 0s 107us/step - loss: 0.4346 - acc: 0.7924 - val_loss: 0.4870 - val_acc: 0.7245\n",
            "Epoch 281/300\n",
            "554/554 [==============================] - 0s 120us/step - loss: 0.4298 - acc: 0.7924 - val_loss: 0.4866 - val_acc: 0.7143\n",
            "Epoch 282/300\n",
            "554/554 [==============================] - 0s 124us/step - loss: 0.4235 - acc: 0.8014 - val_loss: 0.5099 - val_acc: 0.7449\n",
            "Epoch 283/300\n",
            "554/554 [==============================] - 0s 125us/step - loss: 0.4314 - acc: 0.7942 - val_loss: 0.4989 - val_acc: 0.7347\n",
            "Epoch 284/300\n",
            "554/554 [==============================] - 0s 113us/step - loss: 0.4270 - acc: 0.7924 - val_loss: 0.5255 - val_acc: 0.7653\n",
            "Epoch 285/300\n",
            "554/554 [==============================] - 0s 116us/step - loss: 0.4557 - acc: 0.7870 - val_loss: 0.5274 - val_acc: 0.7347\n",
            "Epoch 286/300\n",
            "554/554 [==============================] - 0s 122us/step - loss: 0.4376 - acc: 0.7870 - val_loss: 0.5277 - val_acc: 0.7449\n",
            "Epoch 287/300\n",
            "554/554 [==============================] - 0s 120us/step - loss: 0.4431 - acc: 0.8014 - val_loss: 0.5169 - val_acc: 0.7041\n",
            "Epoch 288/300\n",
            "554/554 [==============================] - 0s 115us/step - loss: 0.4182 - acc: 0.7924 - val_loss: 0.4742 - val_acc: 0.7347\n",
            "Epoch 289/300\n",
            "554/554 [==============================] - 0s 124us/step - loss: 0.4320 - acc: 0.7906 - val_loss: 0.4920 - val_acc: 0.7551\n",
            "Epoch 290/300\n",
            "554/554 [==============================] - 0s 119us/step - loss: 0.4430 - acc: 0.7852 - val_loss: 0.6509 - val_acc: 0.6939\n",
            "Epoch 291/300\n",
            "554/554 [==============================] - 0s 118us/step - loss: 0.4342 - acc: 0.8051 - val_loss: 0.5142 - val_acc: 0.7857\n",
            "Epoch 292/300\n",
            "554/554 [==============================] - 0s 113us/step - loss: 0.4484 - acc: 0.7960 - val_loss: 0.5496 - val_acc: 0.7755\n",
            "Epoch 293/300\n",
            "554/554 [==============================] - 0s 123us/step - loss: 0.4386 - acc: 0.7852 - val_loss: 0.5000 - val_acc: 0.7857\n",
            "Epoch 294/300\n",
            "554/554 [==============================] - 0s 121us/step - loss: 0.4272 - acc: 0.8069 - val_loss: 0.5881 - val_acc: 0.7551\n",
            "Epoch 295/300\n",
            "554/554 [==============================] - 0s 114us/step - loss: 0.4590 - acc: 0.7726 - val_loss: 0.5288 - val_acc: 0.7041\n",
            "Epoch 296/300\n",
            "554/554 [==============================] - 0s 115us/step - loss: 0.4427 - acc: 0.7960 - val_loss: 0.4883 - val_acc: 0.7551\n",
            "Epoch 297/300\n",
            "554/554 [==============================] - 0s 120us/step - loss: 0.4271 - acc: 0.7906 - val_loss: 0.5171 - val_acc: 0.7143\n",
            "Epoch 298/300\n",
            "554/554 [==============================] - 0s 124us/step - loss: 0.4372 - acc: 0.7924 - val_loss: 0.4898 - val_acc: 0.7347\n",
            "Epoch 299/300\n",
            "554/554 [==============================] - 0s 120us/step - loss: 0.4365 - acc: 0.7798 - val_loss: 0.5268 - val_acc: 0.7347\n",
            "Epoch 300/300\n",
            "554/554 [==============================] - 0s 114us/step - loss: 0.4213 - acc: 0.8032 - val_loss: 0.4799 - val_acc: 0.7245\n"
          ],
          "name": "stdout"
        }
      ]
    },
    {
      "cell_type": "code",
      "metadata": {
        "id": "Ok-8tPskoHg5",
        "colab_type": "code",
        "colab": {
          "base_uri": "https://localhost:8080/",
          "height": 35
        },
        "outputId": "66ed25b4-a3f7-4717-93bc-a34c03ed85dc"
      },
      "source": [
        "# list all data in history\n",
        "print(history.history.keys())"
      ],
      "execution_count": 80,
      "outputs": [
        {
          "output_type": "stream",
          "text": [
            "dict_keys(['val_loss', 'val_acc', 'loss', 'acc'])\n"
          ],
          "name": "stdout"
        }
      ]
    },
    {
      "cell_type": "code",
      "metadata": {
        "id": "KyH0TT6soMLG",
        "colab_type": "code",
        "colab": {
          "base_uri": "https://localhost:8080/",
          "height": 295
        },
        "outputId": "bfbf551a-aedc-4d10-8989-a15e3f774184"
      },
      "source": [
        "\n",
        "# Plot the History of Training Loss (history.history['loss']) and the Validation Loss (history.history['val_loss'])\n",
        "# Title should be \"Model Loss\"\n",
        "# x label: \"Loss\"\n",
        "# y label: \"Epoch\"\n",
        "# Legend: \"Train\" and \"Validation\"\n",
        "# TODO\n",
        "plt.plot(history.history['loss'])\n",
        "plt.plot(history.history['val_loss'])\n",
        "plt.title('model loss')\n",
        "plt.ylabel('loss')\n",
        "plt.xlabel('epoch')\n",
        "plt.legend(['train', 'test'], loc='upper left')\n",
        "plt.show()"
      ],
      "execution_count": 81,
      "outputs": [
        {
          "output_type": "display_data",
          "data": {
            "image/png": "[encoded data removed]",
            "text/plain": [
              "<Figure size 432x288 with 1 Axes>"
            ]
          },
          "metadata": {
            "tags": []
          }
        }
      ]
    },
    {
      "cell_type": "code",
      "metadata": {
        "id": "HboRed8slc4R",
        "colab_type": "code",
        "colab": {
          "base_uri": "https://localhost:8080/",
          "height": 295
        },
        "outputId": "a8c04cdd-9dba-4490-bf3e-03fc04eabc9e"
      },
      "source": [
        "# Plot the History of Training Accuracy (history.history['acc']) and \n",
        "# the Validation Accuracy (history.history['val_loss'])\n",
        "#\n",
        "# Title should be \"Model Accuracy\"\n",
        "# x label: \"Accuracy\"\n",
        "# y label: \"Epoch\"\n",
        "# Legend: \"Train\" and \"Validation\"\n",
        "# TODO\n",
        "plt.plot(history.history['acc'])\n",
        "plt.plot(history.history['val_acc'])\n",
        "plt.title('model accuracy')\n",
        "plt.ylabel('accuracy')\n",
        "plt.xlabel('epoch')\n",
        "plt.legend(['train', 'test'], loc='upper left')\n",
        "plt.show()\n"
      ],
      "execution_count": 83,
      "outputs": [
        {
          "output_type": "display_data",
          "data": {
            "image/png": "[encoded data removed]",
            "text/plain": [
              "<Figure size 432x288 with 1 Axes>"
            ]
          },
          "metadata": {
            "tags": []
          }
        }
      ]
    },
    {
      "cell_type": "code",
      "metadata": {
        "id": "83IzbwqSoTc0",
        "colab_type": "code",
        "colab": {}
      },
      "source": [
        "# Evaluate the loss and accuracy on the test data\n",
        "#loss, accuracy = \n",
        "loss, accuracy = model.evaluate(X_test, y_test, verbose=0)\n",
        "\n",
        "\t"
      ],
      "execution_count": 0,
      "outputs": []
    },
    {
      "cell_type": "code",
      "metadata": {
        "id": "k9r0AIVjoWTt",
        "colab_type": "code",
        "colab": {
          "base_uri": "https://localhost:8080/",
          "height": 52
        },
        "outputId": "5e745d51-7da6-41f3-83a9-0bee9c7968ec"
      },
      "source": [
        "\n",
        "print('Test score:', loss)\n",
        "print('Test accuracy:', accuracy)"
      ],
      "execution_count": 85,
      "outputs": [
        {
          "output_type": "stream",
          "text": [
            "Test score: 0.6230095172750538\n",
            "Test accuracy: 0.758620691710505\n"
          ],
          "name": "stdout"
        }
      ]
    },
    {
      "cell_type": "code",
      "metadata": {
        "id": "ahux64LLuEwo",
        "colab_type": "code",
        "colab": {}
      },
      "source": [
        ""
      ],
      "execution_count": 0,
      "outputs": []
    }
  ]
}